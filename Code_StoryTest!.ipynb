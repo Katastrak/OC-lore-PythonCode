{
  "nbformat": 4,
  "nbformat_minor": 0,
  "metadata": {
    "colab": {
      "provenance": []
    },
    "kernelspec": {
      "name": "python3",
      "display_name": "Python 3"
    },
    "language_info": {
      "name": "python"
    }
  },
  "cells": [
    {
      "cell_type": "code",
      "source": [
        "from google.colab import auth\n",
        "auth.authenticate_user()\n",
        "print('Authenticated')"
      ],
      "metadata": {
        "colab": {
          "base_uri": "https://localhost:8080/"
        },
        "collapsed": true,
        "id": "73SV122LvRNp",
        "outputId": "1ef4bd0a-540c-469c-f965-36bf33b97273"
      },
      "execution_count": null,
      "outputs": [
        {
          "output_type": "stream",
          "name": "stdout",
          "text": [
            "Authenticated\n"
          ]
        }
      ]
    },
    {
      "cell_type": "code",
      "source": [
        "!pip install --upgrade google-generativeai\n"
      ],
      "metadata": {
        "colab": {
          "base_uri": "https://localhost:8080/"
        },
        "collapsed": true,
        "id": "RtgmP0oxveGh",
        "outputId": "6d61474e-fc45-4e4e-c547-38a73a908585"
      },
      "execution_count": null,
      "outputs": [
        {
          "output_type": "stream",
          "name": "stdout",
          "text": [
            "Requirement already satisfied: google-generativeai in /usr/local/lib/python3.11/dist-packages (0.8.5)\n",
            "Requirement already satisfied: google-ai-generativelanguage==0.6.15 in /usr/local/lib/python3.11/dist-packages (from google-generativeai) (0.6.15)\n",
            "Requirement already satisfied: google-api-core in /usr/local/lib/python3.11/dist-packages (from google-generativeai) (2.24.2)\n",
            "Requirement already satisfied: google-api-python-client in /usr/local/lib/python3.11/dist-packages (from google-generativeai) (2.169.0)\n",
            "Requirement already satisfied: google-auth>=2.15.0 in /usr/local/lib/python3.11/dist-packages (from google-generativeai) (2.38.0)\n",
            "Requirement already satisfied: protobuf in /usr/local/lib/python3.11/dist-packages (from google-generativeai) (5.29.4)\n",
            "Requirement already satisfied: pydantic in /usr/local/lib/python3.11/dist-packages (from google-generativeai) (2.11.4)\n",
            "Requirement already satisfied: tqdm in /usr/local/lib/python3.11/dist-packages (from google-generativeai) (4.67.1)\n",
            "Requirement already satisfied: typing-extensions in /usr/local/lib/python3.11/dist-packages (from google-generativeai) (4.13.2)\n",
            "Requirement already satisfied: proto-plus<2.0.0dev,>=1.22.3 in /usr/local/lib/python3.11/dist-packages (from google-ai-generativelanguage==0.6.15->google-generativeai) (1.26.1)\n",
            "Requirement already satisfied: googleapis-common-protos<2.0.0,>=1.56.2 in /usr/local/lib/python3.11/dist-packages (from google-api-core->google-generativeai) (1.70.0)\n",
            "Requirement already satisfied: requests<3.0.0,>=2.18.0 in /usr/local/lib/python3.11/dist-packages (from google-api-core->google-generativeai) (2.32.3)\n",
            "Requirement already satisfied: cachetools<6.0,>=2.0.0 in /usr/local/lib/python3.11/dist-packages (from google-auth>=2.15.0->google-generativeai) (5.5.2)\n",
            "Requirement already satisfied: pyasn1-modules>=0.2.1 in /usr/local/lib/python3.11/dist-packages (from google-auth>=2.15.0->google-generativeai) (0.4.2)\n",
            "Requirement already satisfied: rsa<5,>=3.1.4 in /usr/local/lib/python3.11/dist-packages (from google-auth>=2.15.0->google-generativeai) (4.9.1)\n",
            "Requirement already satisfied: httplib2<1.0.0,>=0.19.0 in /usr/local/lib/python3.11/dist-packages (from google-api-python-client->google-generativeai) (0.22.0)\n",
            "Requirement already satisfied: google-auth-httplib2<1.0.0,>=0.2.0 in /usr/local/lib/python3.11/dist-packages (from google-api-python-client->google-generativeai) (0.2.0)\n",
            "Requirement already satisfied: uritemplate<5,>=3.0.1 in /usr/local/lib/python3.11/dist-packages (from google-api-python-client->google-generativeai) (4.1.1)\n",
            "Requirement already satisfied: annotated-types>=0.6.0 in /usr/local/lib/python3.11/dist-packages (from pydantic->google-generativeai) (0.7.0)\n",
            "Requirement already satisfied: pydantic-core==2.33.2 in /usr/local/lib/python3.11/dist-packages (from pydantic->google-generativeai) (2.33.2)\n",
            "Requirement already satisfied: typing-inspection>=0.4.0 in /usr/local/lib/python3.11/dist-packages (from pydantic->google-generativeai) (0.4.0)\n",
            "Requirement already satisfied: grpcio<2.0dev,>=1.33.2 in /usr/local/lib/python3.11/dist-packages (from google-api-core[grpc]!=2.0.*,!=2.1.*,!=2.10.*,!=2.2.*,!=2.3.*,!=2.4.*,!=2.5.*,!=2.6.*,!=2.7.*,!=2.8.*,!=2.9.*,<3.0.0dev,>=1.34.1->google-ai-generativelanguage==0.6.15->google-generativeai) (1.71.0)\n",
            "Requirement already satisfied: grpcio-status<2.0.dev0,>=1.33.2 in /usr/local/lib/python3.11/dist-packages (from google-api-core[grpc]!=2.0.*,!=2.1.*,!=2.10.*,!=2.2.*,!=2.3.*,!=2.4.*,!=2.5.*,!=2.6.*,!=2.7.*,!=2.8.*,!=2.9.*,<3.0.0dev,>=1.34.1->google-ai-generativelanguage==0.6.15->google-generativeai) (1.71.0)\n",
            "Requirement already satisfied: pyparsing!=3.0.0,!=3.0.1,!=3.0.2,!=3.0.3,<4,>=2.4.2 in /usr/local/lib/python3.11/dist-packages (from httplib2<1.0.0,>=0.19.0->google-api-python-client->google-generativeai) (3.2.3)\n",
            "Requirement already satisfied: pyasn1<0.7.0,>=0.6.1 in /usr/local/lib/python3.11/dist-packages (from pyasn1-modules>=0.2.1->google-auth>=2.15.0->google-generativeai) (0.6.1)\n",
            "Requirement already satisfied: charset-normalizer<4,>=2 in /usr/local/lib/python3.11/dist-packages (from requests<3.0.0,>=2.18.0->google-api-core->google-generativeai) (3.4.2)\n",
            "Requirement already satisfied: idna<4,>=2.5 in /usr/local/lib/python3.11/dist-packages (from requests<3.0.0,>=2.18.0->google-api-core->google-generativeai) (3.10)\n",
            "Requirement already satisfied: urllib3<3,>=1.21.1 in /usr/local/lib/python3.11/dist-packages (from requests<3.0.0,>=2.18.0->google-api-core->google-generativeai) (2.4.0)\n",
            "Requirement already satisfied: certifi>=2017.4.17 in /usr/local/lib/python3.11/dist-packages (from requests<3.0.0,>=2.18.0->google-api-core->google-generativeai) (2025.4.26)\n"
          ]
        }
      ]
    },
    {
      "cell_type": "code",
      "source": [
        "import os\n",
        "from google.colab import userdata\n",
        "os.environ['GOOGLE_API_KEY'] = userdata.get('GOOGLE_API_KEY')"
      ],
      "metadata": {
        "id": "vbpnpFZJ-PUP"
      },
      "execution_count": 5,
      "outputs": []
    },
    {
      "cell_type": "markdown",
      "source": [
        "# Nova seção"
      ],
      "metadata": {
        "id": "tcgHNFwi5Dlp"
      }
    },
    {
      "cell_type": "markdown",
      "source": [
        "# Nova seção"
      ],
      "metadata": {
        "id": "BxJ5jPOW5J3Y"
      }
    },
    {
      "cell_type": "code",
      "source": [
        "import google.generativeai as genai\n",
        "\n",
        "GEMINI_API_KEY = \"GEMINI_API_KEY\"\n",
        "\n",
        "genai.configure(api_key=GEMINI_API_KEY)\n",
        "\n",
        "try:\n",
        "    model = genai.GenerativeModel('gemini-pro')\n",
        "    print(\"Gemini Pro model initialized successfully!\")\n",
        "except Exception as e:\n",
        "    print(f\"Error initializing model: {e}\")"
      ],
      "metadata": {
        "colab": {
          "base_uri": "https://localhost:8080/"
        },
        "id": "Po00wB0Mvgc5",
        "outputId": "bfbb450f-f6bc-4269-cff8-c0894b8278d4"
      },
      "execution_count": 6,
      "outputs": [
        {
          "output_type": "stream",
          "name": "stdout",
          "text": [
            "Gemini Pro model initialized successfully!\n"
          ]
        }
      ]
    },
    {
      "cell_type": "code",
      "source": [
        "import os\n",
        "import google.generativeai as genai\n",
        "from google.colab import auth\n",
        "\n",
        "auth.authenticate_user()\n",
        "print('Authenticated')\n",
        "\n",
        "GEMINI_API_KEY = os.environ.get('GEMINI_API_KEY')\n",
        "genai.configure(api_key=GEMINI_API_KEY)\n",
        "model = genai.GenerativeModel('gemini-1.5-flash')\n",
        "\n",
        "def generate_character_lore(name, origin, motivations, key_event, relationships, secrets):\n",
        "    prompt = f\"Create detailed lore for a D\\&D character named {name}. Consider the following aspects:\\n\\n\"\n",
        "    prompt += f\"Origin: {origin}\\n\"\n",
        "    prompt += f\"Motivations: {motivations}\\n\"\n",
        "    prompt += f\"Key Event: {key_event}\\n\"\n",
        "    prompt += f\"Relationships: {relationships}\\n\"\n",
        "    prompt += f\"Secrets/Flaws: {secrets}\\n\\n\"\n",
        "    prompt += \"Write this lore in an engaging and descriptive style suitable for a roleplaying game background.\"\n",
        "    response = model.generate_content(prompt)\n",
        "    return response.text\n",
        "\n",
        "if __name__ == \"__main__\":\n",
        "    print(\"Welcome to the Character Lore Generator! It's used for help you to have ideas for your OC Lore!\")\n",
        "    character_name = input(\"Enter your character's name: \")\n",
        "    origin = input(\"Describe your character's origin: \")\n",
        "    motivations = input(\"What are your character's primary motivations?: \")\n",
        "    key_event = input(\"Describe a key event from your character's past: \")\n",
        "    relationships = input(\"Describe some important relationships your character has: \")\n",
        "    secrets = input(\"What secrets or flaws does your character possess?: \")\n",
        "\n",
        "    if character_name and origin and motivations and key_event and relationships and secrets:\n",
        "        lore = generate_character_lore(character_name, origin, motivations, key_event, relationships, secrets)\n",
        "        print(\"\\n--- Your Character Lore ---\")\n",
        "        print(lore)\n",
        "    else:\n",
        "        print(\"Please provide information for all categories to generate lore.\")"
      ],
      "metadata": {
        "colab": {
          "base_uri": "https://localhost:8080/",
          "height": 400
        },
        "id": "GVdCHmYC7kNn",
        "outputId": "c83807bd-eb7d-4239-cb29-b91a371313a7"
      },
      "execution_count": 7,
      "outputs": [
        {
          "output_type": "stream",
          "name": "stdout",
          "text": [
            "Authenticated\n",
            "Welcome to the Character Lore Generator! It's used for help you to have ideas for your OC Lore!\n",
            "Enter your character's name: Qin\n",
            "Describe your character's origin: Draogn\n",
            "What are your character's primary motivations?: stay alive\n",
            "Describe a key event from your character's past: he was a Dragon\n",
            "Describe some important relationships your character has: with is soulmate\n",
            "What secrets or flaws does your character possess?: he still a dragobn\n",
            "\n",
            "--- Your Character Lore ---\n",
            "Qin, a name whispered on the wind like a forgotten prayer, carries the weight of millennia etched onto his scales – scales now hidden beneath layers of carefully crafted human guise.  Born on the sun-drenched slopes of Mount Cinderfang, he was once Qilin, a magnificent bronze dragon, his scales shimmering like molten gold, his eyes burning with the fire of a thousand suns.  He commanded the skies, his roar echoing across the plains, his presence a force of nature.  But the sun, that same sun which once warmed him, brought with it the shadow of his greatest vulnerability – a magical curse.\n",
            "\n",
            "This curse, inflicted by a jealous rival, a silver dragon of immense power, slowly stripped him of his draconic form. It began subtly; a stiffness in his powerful wings, a fading of his fiery breath.  Then came the agonizing transformation, each lost scale a testament to the encroaching mortality that threatened to consume him.  The curse, however, didn't destroy his essence; it merely forced him to hide, to survive as a frail, human imitation of his former glory. This is his core motivation: to survive long enough to find a cure, to reclaim what was stolen from him. His strength, his freedom, his very *self*.  Every breath, every heartbeat, is a defiant act against the insidious magic that seeks to claim him.\n",
            "\n",
            "The key event, the cataclysm that shaped his current existence, was the final stage of the curse's transformation.  He remembers the searing pain, the cracking of his bones, the horrifying metamorphosis that left him weak and human, a shell of his former grandeur. He barely escaped the wrath of his rival, leaving behind the only home he ever knew, the mountain that bore witness to his fall.\n",
            "\n",
            "The one anchor in his desperate quest for survival, his flickering hope in the suffocating darkness, is Lyra.  Lyra, his soulmate, found him broken and barely alive, a pathetic creature huddled in a forgotten alley. She didn't see the dragon, she saw the pain, the vulnerability. She nursed him back to health, her love a balm to his wounded spirit.  Their connection transcends the physical; it's a bond forged in the heart of a dying star, a testament to the enduring strength of love even against the relentless tide of fate.  She is his secret, his safe harbor, the one being who knows the truth of his past, the true nature of the fragile human he presents to the world.\n",
            "\n",
            "Qin's greatest secret, his crippling flaw, is the very nature of his existence. The remnants of the curse still linger; sometimes, in moments of intense emotion or physical exertion, his true form threatens to break through.  The glint of bronze in his eyes, an unexpected surge of strength, the phantom sensation of scales beneath his skin – these are constant reminders of his past, of the power he’s lost and the ever-present danger of discovery.  He lives in constant fear of exposure, knowing that revelation would likely result in his capture, his study, or even worse – his destruction by those who would exploit his unique nature.  He must maintain his disguise, protect Lyra, and find a way to break the curse, or risk losing everything—including the woman who has given him reason to fight for a future he scarcely dared to believe in.\n",
            "\n"
          ]
        }
      ]
    }
  ]
}